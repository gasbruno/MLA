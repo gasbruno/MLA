{
 "cells": [
  {
   "cell_type": "markdown",
   "metadata": {},
   "source": [
    "# Exemple 2 : la fonction XOR"
   ]
  },
  {
   "cell_type": "markdown",
   "metadata": {},
   "source": [
    "## 1. Importation des librairies"
   ]
  },
  {
   "cell_type": "code",
   "execution_count": 3,
   "metadata": {},
   "outputs": [
    {
     "name": "stdout",
     "output_type": "stream",
     "text": [
      "Using cuda device\n"
     ]
    }
   ],
   "source": [
    "import numpy as np\n",
    "import matplotlib.pyplot as plt\n",
    "import torch\n",
    "from torch import nn\n",
    "#from dlptools import XorDataset\n",
    "from torch.utils.data import DataLoader\n",
    "\n",
    "dev = (\n",
    "    \"cuda\"\n",
    "    if torch.cuda.is_available()\n",
    "    else \"mps\"\n",
    "    if torch.backends.mps.is_available()\n",
    "    else \"cpu\"\n",
    ")\n",
    "print(f\"Using {dev} device\")"
   ]
  },
  {
   "cell_type": "markdown",
   "metadata": {},
   "source": [
    "## 2. Définition des données d'apprentissage"
   ]
  },
  {
   "cell_type": "code",
   "execution_count": 5,
   "metadata": {},
   "outputs": [
    {
     "name": "stdout",
     "output_type": "stream",
     "text": [
      "tensor([[0., 0.],\n",
      "        [0., 1.],\n",
      "        [1., 0.],\n",
      "        [1., 1.]], device='cuda:0')\n",
      "tensor([0., 1., 1., 0.], device='cuda:0')\n"
     ]
    }
   ],
   "source": [
    "# Définition des données d'apprentissage\n",
    "# Définition des données d'apprentissage\n",
    "X = torch.tensor([[0, 0], [0, 1], [1, 0], [1, 1]], dtype=torch.float32, device=dev)\n",
    "Y = torch.tensor([0, 1, 1, 0], dtype=torch.float32, device=dev)\n",
    "\n",
    "training_data = torch.utils.data.TensorDataset(X, Y)\n",
    "train_dataloader = torch.utils.data.DataLoader(training_data , batch_size=4, shuffle=False)\n",
    "\n",
    "# tester le data loader\n",
    "x_train, y_train =  next(iter(train_dataloader))\n",
    "print(x_train)\n",
    "print(y_train)"
   ]
  },
  {
   "cell_type": "markdown",
   "metadata": {},
   "source": [
    "## 3. Architecture du réseau "
   ]
  },
  {
   "cell_type": "code",
   "execution_count": null,
   "metadata": {},
   "outputs": [],
   "source": [
    "## À compléter...\n",
    "#\n",
    "\n",
    "## Construction du modèle\n",
    "#class NeuralNetwork(nn.Module):\n",
    "\n",
    "## Création d'une instance du réseau\n",
    "#xor_model = ...\n",
    "\n",
    "\n",
    "## Affichage de la structure\n",
    "# ...\n",
    "\n",
    "## choix de la fonction de perte:\n",
    "#loss_fn = ...\n",
    "\n",
    "## Choix de l'algorithme d'optimisation: SGD\n",
    "#learning_rate = ...\n",
    "#optimizer = .."
   ]
  },
  {
   "cell_type": "markdown",
   "metadata": {},
   "source": [
    "## 4. Apprentissage du réseau"
   ]
  },
  {
   "cell_type": "code",
   "execution_count": null,
   "metadata": {},
   "outputs": [],
   "source": [
    "## cycle d'apprentissage..."
   ]
  },
  {
   "cell_type": "markdown",
   "metadata": {},
   "source": [
    "## 5. Visualisation des résultats"
   ]
  },
  {
   "cell_type": "code",
   "execution_count": null,
   "metadata": {},
   "outputs": [],
   "source": [
    "#Visualisation des frontières de décision\n",
    "#On parcours l'espace d'entrée du réseau\n",
    "for i in np.arange(-0.1, 1.1, 0.05):\n",
    "    for j in np.arange(-0.1, 1.1, 0.05):\n",
    "        # On prédit la sortie du réseau pour chaque valeur de cet espace \n",
    "        z = ...\n",
    "        # On affiche le \n",
    "        if z>0.5 :\n",
    "            plt.plot(i,j,'.r')\n",
    "        else :\n",
    "            plt.plot(i,j, '.b')\n",
    "\n",
    "# Affichage de la base d'apprentissage\n",
    "for i in range(Y.size) :\n",
    "    if Y[i] == 1 :\n",
    "        fig = plt.plot(X[i,0], X[i,1], 'ro')\n",
    "    else :\n",
    "        fig = plt.plot(X[i, 0], X[i, 1], 'bo')\n",
    "    plt.setp(fig, markersize=10)\n",
    "\n",
    "plt.show()"
   ]
  },
  {
   "cell_type": "markdown",
   "metadata": {},
   "source": [
    "## 6. A faire"
   ]
  },
  {
   "cell_type": "markdown",
   "metadata": {},
   "source": [
    "- Compléter le programme afin d'apprendre la fonction xor\n",
    "- Modifier le programme afin de visualiser l'évolution de l'apprentissage dans le Tensorboard"
   ]
  }
 ],
 "metadata": {
  "kernelspec": {
   "display_name": "conda_rnn2",
   "language": "python",
   "name": "conda_rnn2"
  },
  "language_info": {
   "codemirror_mode": {
    "name": "ipython",
    "version": 3
   },
   "file_extension": ".py",
   "mimetype": "text/x-python",
   "name": "python",
   "nbconvert_exporter": "python",
   "pygments_lexer": "ipython3",
   "version": "3.8.19"
  }
 },
 "nbformat": 4,
 "nbformat_minor": 4
}
