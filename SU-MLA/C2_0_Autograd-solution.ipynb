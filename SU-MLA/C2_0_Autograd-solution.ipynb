{
 "cells": [
  {
   "cell_type": "markdown",
   "id": "a5ed6d15",
   "metadata": {},
   "source": [
    "# Practical work : Autograd\n",
    "\n",
    "Reprenez l'exemple du calcul du gradient donné en cours (cours Réseaux de neurones multicouches, B. Gas) de la fonction suivante : \n",
    "\n",
    "$\\mathcal{L}(\\hat{y},y) = (\\sigma(W^TX+\\theta)-y)^2$\n",
    "\n",
    "Calculez 𝜕L⁄𝜕𝑋 et 𝜕L⁄𝜕𝑊 pour les valeurs de X et de W données en cours et vérifiez que vous obtenez les mêmes résultats"
   ]
  },
  {
   "cell_type": "code",
   "execution_count": 1,
   "id": "9bad8412",
   "metadata": {},
   "outputs": [
    {
     "name": "stdout",
     "output_type": "stream",
     "text": [
      "dL_dX = tensor([[0.6475, 0.9712]]) - dL_dW = tensor([[ 1.9424, -1.2949]])\n"
     ]
    }
   ],
   "source": [
    "import torch\n",
    "import torch.nn as nn\n",
    "import torch.optim as optim\n",
    "\n",
    "# Définition des valeurs des variables du problème\n",
    "X = torch.tensor([[-3.0, 2.0]], requires_grad=True)\n",
    "W = torch.tensor([[-1.0, -1.5]], requires_grad=True)\n",
    "theta = torch.tensor(0.5, requires_grad=True)\n",
    "y = torch.tensor(2.0)\n",
    "\n",
    "# Calcul de v et y_hat\n",
    "v = torch.matmul(W, X.t()) + theta\n",
    "y_hat = torch.sigmoid(v)\n",
    "L = (y_hat - y)**2\n",
    "\n",
    "# Calcul des gradients\n",
    "L.backward()\n",
    "\n",
    "dL_dW = W.grad\n",
    "dL_dX = X.grad\n",
    "\n",
    "print(f\"dL_dX = {dL_dX} - dL_dW = {dL_dW}\")"
   ]
  }
 ],
 "metadata": {
  "kernelspec": {
   "display_name": "venv",
   "language": "python",
   "name": "python3"
  },
  "language_info": {
   "codemirror_mode": {
    "name": "ipython",
    "version": 3
   },
   "file_extension": ".py",
   "mimetype": "text/x-python",
   "name": "python",
   "nbconvert_exporter": "python",
   "pygments_lexer": "ipython3",
   "version": "3.12.8"
  }
 },
 "nbformat": 4,
 "nbformat_minor": 5
}
